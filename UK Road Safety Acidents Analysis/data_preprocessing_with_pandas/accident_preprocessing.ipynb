{
 "cells": [
  {
   "cell_type": "code",
   "execution_count": null,
   "id": "2d07b181",
   "metadata": {},
   "outputs": [],
   "source": [
    "import pandas as pd"
   ]
  },
  {
   "cell_type": "code",
   "execution_count": null,
   "id": "46fbcf63",
   "metadata": {},
   "outputs": [],
   "source": [
    "#Define a list of column names that we are interested in for the accidents dataset\n",
    "accident_columns=[\"Accident_Index\",\"Location_Easting_OSGR\",\"Location_Northing_OSGR\",\"Longitude\",\"Latitude\",\"Police_Force\",\"Accident_Severity\",\"Number_of_Vehicles\",\"Number_of_Casualties\",\"Date\",\"Day_of_Week\",\"Time\"]"
   ]
  },
  {
   "cell_type": "code",
   "execution_count": null,
   "id": "678ad43e",
   "metadata": {},
   "outputs": [],
   "source": [
    "#Load data from CSV file into a pandas DataFrame, specifying the columns to include and the data type of the Accident_Index column\n",
    "accident=pd.read_csv(\"C:/Users/ORESANYA/Classic Isaac/Git/PostgreSQL/dataset/Accidents_2015.txt\",usecols=accident_columns,dtype={'Accident_Index':str})"
   ]
  },
  {
   "cell_type": "code",
   "execution_count": null,
   "id": "09adad89",
   "metadata": {},
   "outputs": [],
   "source": [
    "#Print the first 5 rows of the DataFrame to check that the data has been loaded correctly\n",
    "accident.head()"
   ]
  },
  {
   "cell_type": "code",
   "execution_count": null,
   "id": "27383ab9",
   "metadata": {},
   "outputs": [],
   "source": [
    "#Print the numbr of rows and columns in the DataFrame to get and idea of the size of the dataset\n",
    "print(accident.shape)\n",
    "#Check the number of missing values in each column of the DataFrame\n",
    "accident.isnull().sum()"
   ]
  },
  {
   "cell_type": "code",
   "execution_count": null,
   "id": "5df852f9",
   "metadata": {},
   "outputs": [],
   "source": [
    "#Convert the date string to datetime object using the specified date format\n",
    "accident[\"Date\"]=pd.to_datetime(accident[\"Date\"],format=\"%d/%m/%Y\")\n",
    "#Check the data for each columns\n",
    "accident.dtypes"
   ]
  },
  {
   "cell_type": "code",
   "execution_count": null,
   "id": "66c4a9ea",
   "metadata": {},
   "outputs": [],
   "source": [
    "#Format the datetime object as a string  in the desired format\n",
    "accident[\"Date\"]=accident[\"Date\"].dt.strftime(\"%Y-%m-%d\")\n",
    "#Check the data for each columns\n",
    "accident.dtypes"
   ]
  },
  {
   "cell_type": "code",
   "execution_count": null,
   "id": "8bdc1096",
   "metadata": {},
   "outputs": [],
   "source": [
    "accident.head()"
   ]
  },
  {
   "cell_type": "code",
   "execution_count": null,
   "id": "8b3c51b5",
   "metadata": {},
   "outputs": [],
   "source": [
    "# Drop any rows that contain missing values\n",
    "accident.dropna(inplace=True)"
   ]
  },
  {
   "cell_type": "code",
   "execution_count": null,
   "id": "4e15b4e2",
   "metadata": {},
   "outputs": [],
   "source": [
    "#Check the data for each columns\n",
    "accident.dtypes"
   ]
  },
  {
   "cell_type": "code",
   "execution_count": null,
   "id": "704ab57d",
   "metadata": {},
   "outputs": [],
   "source": [
    "#Print the counts of each value in the Accident_Severity column to get an idea of the distribution of the data \n",
    "accident[\"Accident_Severity\"].value_counts()"
   ]
  },
  {
   "cell_type": "code",
   "execution_count": null,
   "id": "80421b35",
   "metadata": {},
   "outputs": [],
   "source": [
    "#Rename columns to conform to PostgreSQL naming conventions\n",
    "accident.rename(columns={\n",
    "    \"Accident_Index\":\"acident_index\",\n",
    "    \"Location_Easting_OSGR\":\"location_easting_osgr\",\n",
    "    \"Location_Northing_OSGR\":\"location_northing_osgr\",\n",
    "    \"Longitude\":\"longitude\",\n",
    "    \"Latitude\":\"latitude\",\n",
    "    \"Police_Force\":\"police_force\",\n",
    "    \"Accident_Severity\":\"accident_severity\",\n",
    "    \"Number_of_Vehicles\":\"number_of_vehicle\",\n",
    "    \"Number_of_Casualties\":\"number_of_casualties\",\n",
    "    \"Date\":\"date\",\n",
    "    \"Day_of_Week\":\"day_of_week\",\n",
    "    \"Time\":\"time\"},inplace=True)"
   ]
  },
  {
   "cell_type": "code",
   "execution_count": null,
   "id": "fa277cca",
   "metadata": {},
   "outputs": [],
   "source": [
    "accident.head()"
   ]
  },
  {
   "cell_type": "code",
   "execution_count": null,
   "id": "9d66e4c4",
   "metadata": {},
   "outputs": [],
   "source": [
    "#Save the preprocessed data to a new CSV file without including the index column\n",
    "accident.to_csv(\"C:/Users/ORESANYA/Classic Isaac/Git/PostgreSQL/dataset/accident_preprocessed.csv\",index=False)"
   ]
  },
  {
   "cell_type": "code",
   "execution_count": null,
   "id": "e50b47fd",
   "metadata": {},
   "outputs": [],
   "source": []
  }
 ],
 "metadata": {
  "kernelspec": {
   "display_name": "Python 3 (ipykernel)",
   "language": "python",
   "name": "python3"
  },
  "language_info": {
   "codemirror_mode": {
    "name": "ipython",
    "version": 3
   },
   "file_extension": ".py",
   "mimetype": "text/x-python",
   "name": "python",
   "nbconvert_exporter": "python",
   "pygments_lexer": "ipython3",
   "version": "3.9.12"
  }
 },
 "nbformat": 4,
 "nbformat_minor": 5
}
