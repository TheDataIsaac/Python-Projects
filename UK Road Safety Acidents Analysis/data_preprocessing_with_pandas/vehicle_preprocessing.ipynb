{
 "cells": [
  {
   "cell_type": "code",
   "execution_count": null,
   "id": "6f1a1421",
   "metadata": {},
   "outputs": [],
   "source": [
    "import pandas as pd"
   ]
  },
  {
   "cell_type": "code",
   "execution_count": null,
   "id": "2ccff271",
   "metadata": {},
   "outputs": [],
   "source": [
    "#Define a list of column names that we are interested in for the vehicle dataset\n",
    "vehicle_columns=[\"Accident_Index\",\"Vehicle_Type\",\"Propulsion_Code\",\"Age_of_Driver\",\"Engine_Capacity_(CC)\"]"
   ]
  },
  {
   "cell_type": "code",
   "execution_count": null,
   "id": "f4fa3b38",
   "metadata": {},
   "outputs": [],
   "source": [
    "#Load data from CSV file into a andas DataFrame\n",
    "vehicle=pd.read_csv(\"C:/Users/ORESANYA/Classic Isaac/Git/PostgreSQL/dataset/Vehicles_2015.txt\",usecols=vehicle_columns,dtype={'Accident_Index':str})"
   ]
  },
  {
   "cell_type": "code",
   "execution_count": null,
   "id": "1babf88a",
   "metadata": {},
   "outputs": [],
   "source": [
    "#Print the first 5 rows of the DataFrame\n",
    "vehicle.head()"
   ]
  },
  {
   "cell_type": "code",
   "execution_count": null,
   "id": "53b0f7c8",
   "metadata": {},
   "outputs": [],
   "source": [
    "#Check for the shape and number of missing values for each column\n",
    "vehicle.shape\n",
    "vehicle.isnull().sum()"
   ]
  },
  {
   "cell_type": "code",
   "execution_count": null,
   "id": "d2d8d71a",
   "metadata": {},
   "outputs": [],
   "source": [
    "#Rename columns to conform to PostgreSQL naming conventions\n",
    "vehicle.rename(columns={\n",
    "    \"Accident_Index\":\"accident_index\",\n",
    "    \"Vehicle_Type\":\"vehicle_type\",\n",
    "    \"Age_of_Driver\":\"age_of_driver\",\n",
    "    \"Engine_Capacity_(CC)\":\"engine_capacity_(cc)\",\n",
    "    \"Propulsion_Code\":\"propulsion_code\",\n",
    "},inplace=True)"
   ]
  },
  {
   "cell_type": "code",
   "execution_count": null,
   "id": "118d7ded",
   "metadata": {},
   "outputs": [],
   "source": [
    "vehicle.head(10)"
   ]
  },
  {
   "cell_type": "code",
   "execution_count": null,
   "id": "d82faa24",
   "metadata": {},
   "outputs": [],
   "source": [
    "#Drop rows with all columns being duplicates of another row\n",
    "vehicle.drop_duplicates(inplace=True)"
   ]
  },
  {
   "cell_type": "code",
   "execution_count": null,
   "id": "f26b7c18",
   "metadata": {},
   "outputs": [],
   "source": [
    "#Save the preprocessed data to a new CSV file without including the index column\n",
    "vehicle.to_csv(\"C:/Users/ORESANYA/Classic Isaac/Git/PostgreSQL/dataset/vehicle_preprocessed.csv\",index=False)"
   ]
  },
  {
   "cell_type": "code",
   "execution_count": null,
   "id": "4573186e",
   "metadata": {},
   "outputs": [],
   "source": []
  }
 ],
 "metadata": {
  "kernelspec": {
   "display_name": "Python 3 (ipykernel)",
   "language": "python",
   "name": "python3"
  },
  "language_info": {
   "codemirror_mode": {
    "name": "ipython",
    "version": 3
   },
   "file_extension": ".py",
   "mimetype": "text/x-python",
   "name": "python",
   "nbconvert_exporter": "python",
   "pygments_lexer": "ipython3",
   "version": "3.9.12"
  }
 },
 "nbformat": 4,
 "nbformat_minor": 5
}
