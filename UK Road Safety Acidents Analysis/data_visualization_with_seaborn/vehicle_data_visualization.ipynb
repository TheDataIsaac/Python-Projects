{
 "cells": [
  {
   "cell_type": "code",
   "execution_count": null,
   "id": "1c4249c0",
   "metadata": {},
   "outputs": [],
   "source": [
    "import pandas as pd\n",
    "import seaborn as sns\n",
    "import matplotlib.pyplot as plt"
   ]
  },
  {
   "cell_type": "code",
   "execution_count": null,
   "id": "5fd7d4e0",
   "metadata": {},
   "outputs": [],
   "source": [
    "vehicle_columns=[\"Accident_Index\",\"Vehicle_Type\",\"Propulsion_Code\",\"Age_of_Driver\",\"Engine_Capacity_(CC)\"]"
   ]
  },
  {
   "cell_type": "code",
   "execution_count": null,
   "id": "35f690a0",
   "metadata": {},
   "outputs": [],
   "source": [
    "#Load the data from CSV file into a pandas DataFrame\n",
    "vehicle=pd.read_csv(\"C:/Users/ORESANYA/Classic Isaac/Git/PostgreSQL/dataset/Vehicles_2015.txt\",usecols=vehicle_columns,dtype={'Accident_Index':str})\n",
    "#Display the first 5 rows of the DataFrame\n",
    "vehicle.head()"
   ]
  },
  {
   "cell_type": "code",
   "execution_count": null,
   "id": "9f963913",
   "metadata": {},
   "outputs": [],
   "source": [
    "#Create a correlation matrix to explore the relationships between the variables\n",
    "vehicle_matrix=vehicle.corr()\n",
    "vehicle_matrix"
   ]
  },
  {
   "cell_type": "markdown",
   "id": "a9a15c9e",
   "metadata": {},
   "source": [
    "#### Box plot to show the distribution of number of vehicles involved in accidents"
   ]
  },
  {
   "cell_type": "code",
   "execution_count": null,
   "id": "adc3ff1e",
   "metadata": {},
   "outputs": [],
   "source": [
    "sns.boxplot(x=vehicle[\"Age_of_Driver\"])\n",
    "plt.title(\"Distribution of age of drivers involved in accidents\")\n",
    "plt.xlabel(\"Age of drivers\")\n",
    "plt.show()"
   ]
  },
  {
   "cell_type": "markdown",
   "id": "438471c6",
   "metadata": {},
   "source": [
    "#### Scatter to show the relationship between the age of driver and engine capacity of the vehicles involved in accident"
   ]
  },
  {
   "cell_type": "code",
   "execution_count": null,
   "id": "f0cf7143",
   "metadata": {},
   "outputs": [],
   "source": [
    "sns.scatterplot(data=vehicle,x=\"Age_of_Driver\",y=\"Engine_Capacity_(CC)\")\n",
    "plt.show()"
   ]
  },
  {
   "cell_type": "code",
   "execution_count": null,
   "id": "aa76f1e0",
   "metadata": {},
   "outputs": [],
   "source": []
  }
 ],
 "metadata": {
  "kernelspec": {
   "display_name": "Python 3 (ipykernel)",
   "language": "python",
   "name": "python3"
  },
  "language_info": {
   "codemirror_mode": {
    "name": "ipython",
    "version": 3
   },
   "file_extension": ".py",
   "mimetype": "text/x-python",
   "name": "python",
   "nbconvert_exporter": "python",
   "pygments_lexer": "ipython3",
   "version": "3.9.12"
  }
 },
 "nbformat": 4,
 "nbformat_minor": 5
}
