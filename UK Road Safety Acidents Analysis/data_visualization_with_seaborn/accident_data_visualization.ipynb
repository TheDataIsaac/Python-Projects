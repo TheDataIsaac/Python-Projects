{
 "cells": [
  {
   "cell_type": "code",
   "execution_count": null,
   "id": "7e1e5777",
   "metadata": {},
   "outputs": [],
   "source": [
    "import pandas as pd\n",
    "import seaborn as sns\n",
    "import matplotlib.pyplot as plt"
   ]
  },
  {
   "cell_type": "code",
   "execution_count": null,
   "id": "ac90cdec",
   "metadata": {},
   "outputs": [],
   "source": [
    "accident_columns=[\"Accident_Index\",\"Location_Easting_OSGR\",\"Location_Northing_OSGR\",\"Longitude\",\"Latitude\",\"Police_Force\",\"Accident_Severity\",\"Number_of_Vehicles\",\"Number_of_Casualties\",\"Date\",\"Day_of_Week\",\"Time\"]"
   ]
  },
  {
   "cell_type": "code",
   "execution_count": null,
   "id": "e56c7935",
   "metadata": {},
   "outputs": [],
   "source": [
    "#Load data from CSV file into a pandas DataFrame\n",
    "accident=pd.read_csv(\"C:/Users/ORESANYA/Classic Isaac/Git/PostgreSQL/dataset/Accidents_2015.txt\",usecols=accident_columns,dtype={'Accident_Index':str})\n",
    "#Display the first 5 columns of the DataFrame\n",
    "accident.head()"
   ]
  },
  {
   "cell_type": "code",
   "execution_count": null,
   "id": "f4b263c5",
   "metadata": {},
   "outputs": [],
   "source": [
    "#Create a correlation matrix to explore the relationships between the variables\n",
    "accident_matrix=accident.corr()\n",
    "accident_matrix"
   ]
  },
  {
   "cell_type": "markdown",
   "id": "f4bdbe16",
   "metadata": {},
   "source": [
    "#### Create a bar plot to show the number of accidents by the day of the week"
   ]
  },
  {
   "cell_type": "code",
   "execution_count": null,
   "id": "152c17b4",
   "metadata": {},
   "outputs": [],
   "source": [
    "#Count the number of accidents by the day of the week\n",
    "counts_DOW=accident.Day_of_Week.value_counts()\n",
    "counts_DOW"
   ]
  },
  {
   "cell_type": "code",
   "execution_count": null,
   "id": "0e659a53",
   "metadata": {},
   "outputs": [],
   "source": [
    "sns.barplot(x=counts_DOW.index,y=counts_DOW.values)\n",
    "plt.title(\"Number of acidents by the day of the week\")\n",
    "plt.xlabel(\"Day of the week\")\n",
    "plt.ylabel(\"Number of accidents\")\n",
    "plt.show()"
   ]
  },
  {
   "cell_type": "markdown",
   "id": "9c90e77d",
   "metadata": {},
   "source": [
    "#### Pie chart to show the distribution of accident severity"
   ]
  },
  {
   "cell_type": "code",
   "execution_count": null,
   "id": "f1c09e48",
   "metadata": {},
   "outputs": [],
   "source": [
    "#Count the number of accidents by severity\n",
    "counts_severity=accident[\"Accident_Severity\"].value_counts()\n",
    "counts_severity"
   ]
  },
  {
   "cell_type": "code",
   "execution_count": null,
   "id": "5f380f70",
   "metadata": {},
   "outputs": [],
   "source": [
    "plt.pie(counts_severity.values,labels=counts_severity.index,autopct=\"%1.1f%%\")\n",
    "plt.title(\"Distribution of accident severity\")\n",
    "plt.axis(\"equal\")\n",
    "plt.show()"
   ]
  },
  {
   "cell_type": "code",
   "execution_count": null,
   "id": "865eaeb8",
   "metadata": {},
   "outputs": [],
   "source": []
  }
 ],
 "metadata": {
  "kernelspec": {
   "display_name": "Python 3 (ipykernel)",
   "language": "python",
   "name": "python3"
  },
  "language_info": {
   "codemirror_mode": {
    "name": "ipython",
    "version": 3
   },
   "file_extension": ".py",
   "mimetype": "text/x-python",
   "name": "python",
   "nbconvert_exporter": "python",
   "pygments_lexer": "ipython3",
   "version": "3.9.12"
  }
 },
 "nbformat": 4,
 "nbformat_minor": 5
}
